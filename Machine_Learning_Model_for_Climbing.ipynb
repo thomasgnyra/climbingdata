{
  "nbformat": 4,
  "nbformat_minor": 0,
  "metadata": {
    "colab": {
      "name": "Machine Learning Model for Climbing.ipynb",
      "provenance": [],
      "collapsed_sections": [],
      "authorship_tag": "ABX9TyM9lhh663NndMwKZNfM21hh",
      "include_colab_link": true
    },
    "kernelspec": {
      "name": "python3",
      "display_name": "Python 3"
    }
  },
  "cells": [
    {
      "cell_type": "markdown",
      "metadata": {
        "id": "view-in-github",
        "colab_type": "text"
      },
      "source": [
        "<a href=\"https://colab.research.google.com/github/thomasgnyra/climbingdata/blob/master/Machine_Learning_Model_for_Climbing.ipynb\" target=\"_parent\"><img src=\"https://colab.research.google.com/assets/colab-badge.svg\" alt=\"Open In Colab\"/></a>"
      ]
    },
    {
      "cell_type": "markdown",
      "metadata": {
        "id": "lSoVtcdeVrjA",
        "colab_type": "text"
      },
      "source": [
        "First load everything:\n",
        "(using this as a guide https://machinelearningmastery.com/machine-learning-in-python-step-by-step/) \n"
      ]
    },
    {
      "cell_type": "code",
      "metadata": {
        "id": "atni-VB6Vmnc",
        "colab_type": "code",
        "colab": {}
      },
      "source": [
        ""
      ],
      "execution_count": null,
      "outputs": []
    }
  ]
}